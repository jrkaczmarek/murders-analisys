{
 "cells": [
  {
   "cell_type": "markdown",
   "id": "7c6ddb95",
   "metadata": {},
   "source": [
    "## Statystyka i Analiza danych\n",
    "# Zadanie domowe\n",
    "Jakub Kaczmarek"
   ]
  },
  {
   "cell_type": "markdown",
   "id": "e9d2a933",
   "metadata": {},
   "source": [
    "### Opis zbioru danych\n",
    "Dane pochodzę ze strony https://www.openintro.org/data/index.php?data=murders. Dokładnego źródła nie podano. Zawierają one informacje o 20 obszarach metropolitalnych tzn. ich populację, procent ubóstwa, procent bezrobocia oraz wskaźnik zabójstw podany w rocznej ilości morderstw na 1 mln mieszkańców. Są to dane obserwacyjne."
   ]
  },
  {
   "cell_type": "markdown",
   "id": "cd311a66",
   "metadata": {},
   "source": [
    "### Wyniki analizy eksploracyjnej"
   ]
  },
  {
   "cell_type": "code",
   "execution_count": 1,
   "id": "0e22b7a6",
   "metadata": {
    "vscode": {
     "languageId": "r"
    }
   },
   "outputs": [
    {
     "data": {
      "text/html": [
       "<table class=\"dataframe\">\n",
       "<caption>A data.frame: 6 × 4</caption>\n",
       "<thead>\n",
       "\t<tr><th></th><th scope=col>population</th><th scope=col>perc_pov</th><th scope=col>perc_unemp</th><th scope=col>annual_murders_per_mil</th></tr>\n",
       "\t<tr><th></th><th scope=col>&lt;int&gt;</th><th scope=col>&lt;dbl&gt;</th><th scope=col>&lt;dbl&gt;</th><th scope=col>&lt;dbl&gt;</th></tr>\n",
       "</thead>\n",
       "<tbody>\n",
       "\t<tr><th scope=row>1</th><td> 587000</td><td>16.5</td><td>6.2</td><td>11.2</td></tr>\n",
       "\t<tr><th scope=row>2</th><td> 643000</td><td>20.5</td><td>6.4</td><td>13.4</td></tr>\n",
       "\t<tr><th scope=row>3</th><td> 635000</td><td>26.3</td><td>9.3</td><td>40.7</td></tr>\n",
       "\t<tr><th scope=row>4</th><td> 692000</td><td>16.5</td><td>5.3</td><td> 5.3</td></tr>\n",
       "\t<tr><th scope=row>5</th><td>1248000</td><td>19.2</td><td>7.3</td><td>24.8</td></tr>\n",
       "\t<tr><th scope=row>6</th><td> 643000</td><td>16.5</td><td>5.9</td><td>12.7</td></tr>\n",
       "</tbody>\n",
       "</table>\n"
      ],
      "text/latex": [
       "A data.frame: 6 × 4\n",
       "\\begin{tabular}{r|llll}\n",
       "  & population & perc\\_pov & perc\\_unemp & annual\\_murders\\_per\\_mil\\\\\n",
       "  & <int> & <dbl> & <dbl> & <dbl>\\\\\n",
       "\\hline\n",
       "\t1 &  587000 & 16.5 & 6.2 & 11.2\\\\\n",
       "\t2 &  643000 & 20.5 & 6.4 & 13.4\\\\\n",
       "\t3 &  635000 & 26.3 & 9.3 & 40.7\\\\\n",
       "\t4 &  692000 & 16.5 & 5.3 &  5.3\\\\\n",
       "\t5 & 1248000 & 19.2 & 7.3 & 24.8\\\\\n",
       "\t6 &  643000 & 16.5 & 5.9 & 12.7\\\\\n",
       "\\end{tabular}\n"
      ],
      "text/markdown": [
       "\n",
       "A data.frame: 6 × 4\n",
       "\n",
       "| <!--/--> | population &lt;int&gt; | perc_pov &lt;dbl&gt; | perc_unemp &lt;dbl&gt; | annual_murders_per_mil &lt;dbl&gt; |\n",
       "|---|---|---|---|---|\n",
       "| 1 |  587000 | 16.5 | 6.2 | 11.2 |\n",
       "| 2 |  643000 | 20.5 | 6.4 | 13.4 |\n",
       "| 3 |  635000 | 26.3 | 9.3 | 40.7 |\n",
       "| 4 |  692000 | 16.5 | 5.3 |  5.3 |\n",
       "| 5 | 1248000 | 19.2 | 7.3 | 24.8 |\n",
       "| 6 |  643000 | 16.5 | 5.9 | 12.7 |\n",
       "\n"
      ],
      "text/plain": [
       "  population perc_pov perc_unemp annual_murders_per_mil\n",
       "1  587000    16.5     6.2        11.2                  \n",
       "2  643000    20.5     6.4        13.4                  \n",
       "3  635000    26.3     9.3        40.7                  \n",
       "4  692000    16.5     5.3         5.3                  \n",
       "5 1248000    19.2     7.3        24.8                  \n",
       "6  643000    16.5     5.9        12.7                  "
      ]
     },
     "metadata": {},
     "output_type": "display_data"
    }
   ],
   "source": [
    "#przygotowanie danych\n",
    "murders <- read.csv(url(\"https://www.openintro.org/data/csv/murders.csv\"), sep=\",\")\n",
    "#wstępny podgląd danych\n",
    "head(murders)"
   ]
  },
  {
   "cell_type": "markdown",
   "id": "caa9e4a7",
   "metadata": {},
   "source": [
    "Dane składają się z ramki zawierającej 4 kolumny: populacja, procent ubóstwa, procent bezrobocia oraz wskaźnik zabójstw."
   ]
  },
  {
   "cell_type": "code",
   "execution_count": 2,
   "id": "918f2339",
   "metadata": {
    "vscode": {
     "languageId": "r"
    }
   },
   "outputs": [
    {
     "data": {
      "text/plain": [
       "   population         perc_pov       perc_unemp    annual_murders_per_mil\n",
       " Min.   : 587000   Min.   :14.30   Min.   :4.900   Min.   : 5.30         \n",
       " 1st Qu.: 643000   1st Qu.:17.12   1st Qu.:6.150   1st Qu.:13.22         \n",
       " Median : 745000   Median :19.15   Median :6.600   Median :19.50         \n",
       " Mean   :1433000   Mean   :19.72   Mean   :6.935   Mean   :20.57         \n",
       " 3rd Qu.:1318750   3rd Qu.:21.57   3rd Qu.:7.775   3rd Qu.:26.07         \n",
       " Max.   :7895000   Max.   :26.30   Max.   :9.300   Max.   :40.70         "
      ]
     },
     "metadata": {},
     "output_type": "display_data"
    },
    {
     "data": {
      "text/html": [
       "'Procent ubóstwa | wariancja 10.512211 | odchylenie std.: 3.242254'"
      ],
      "text/latex": [
       "'Procent ubóstwa \\textbar{} wariancja 10.512211 \\textbar{} odchylenie std.: 3.242254'"
      ],
      "text/markdown": [
       "'Procent ubóstwa | wariancja 10.512211 | odchylenie std.: 3.242254'"
      ],
      "text/plain": [
       "[1] \"Procent ubóstwa | wariancja 10.512211 | odchylenie std.: 3.242254\""
      ]
     },
     "metadata": {},
     "output_type": "display_data"
    },
    {
     "data": {
      "text/html": [
       "'Procent bezrobocia | wariancja 1.457132 | odchylenie std.: 1.207117'"
      ],
      "text/latex": [
       "'Procent bezrobocia \\textbar{} wariancja 1.457132 \\textbar{} odchylenie std.: 1.207117'"
      ],
      "text/markdown": [
       "'Procent bezrobocia | wariancja 1.457132 | odchylenie std.: 1.207117'"
      ],
      "text/plain": [
       "[1] \"Procent bezrobocia | wariancja 1.457132 | odchylenie std.: 1.207117\""
      ]
     },
     "metadata": {},
     "output_type": "display_data"
    },
    {
     "data": {
      "text/html": [
       "'Wskaźnik zabósjtw | wariancja 97.642211 | odchylenie std.: 9.881407'"
      ],
      "text/latex": [
       "'Wskaźnik zabósjtw \\textbar{} wariancja 97.642211 \\textbar{} odchylenie std.: 9.881407'"
      ],
      "text/markdown": [
       "'Wskaźnik zabósjtw | wariancja 97.642211 | odchylenie std.: 9.881407'"
      ],
      "text/plain": [
       "[1] \"Wskaźnik zabósjtw | wariancja 97.642211 | odchylenie std.: 9.881407\""
      ]
     },
     "metadata": {},
     "output_type": "display_data"
    }
   ],
   "source": [
    "summary(murders)\n",
    "sprintf(\"Procent ubóstwa | wariancja %f | odchylenie std.: %f\", var(murders$perc_pov), sd(murders$perc_pov))\n",
    "sprintf(\"Procent bezrobocia | wariancja %f | odchylenie std.: %f\", var(murders$perc_unemp), sd(murders$perc_unemp))\n",
    "sprintf(\"Wskaźnik zabósjtw | wariancja %f | odchylenie std.: %f\", var(murders$annual_murders_per_mil), sd(murders$annual_murders_per_mil))"
   ]
  },
  {
   "cell_type": "markdown",
   "id": "24ea5a61",
   "metadata": {},
   "source": [
    "Ponieważ są to dane liczbowe, to zasadne jest użycie funkcji summary, która oblicza dla poszczególnych kolumn podstawowe statystyki opisowe takie jak np. mediana, średnia lub wartość minimalną/maksymalną. Dane są dosyć zróżnicowane. W przypadku populacji, badane metropolie mają rozmar od około 587 tys. do aż 7.9 mln mieszkańców. Warto jeszcze zwrócić uwagę na wskaźnik samobójstw, który jest z szerokiego przedziału od 5 do 40 zabójstw rocznie."
   ]
  },
  {
   "cell_type": "code",
   "execution_count": 3,
   "id": "334feb98",
   "metadata": {
    "scrolled": false,
    "vscode": {
     "languageId": "r"
    }
   },
   "outputs": [
    {
     "data": {
      "image/png": "[encoded data removed]",
      "text/plain": [
       "Plot with title \"Pulacja - skośność: 2.99 kurtoza: 8.61\""
      ]
     },
     "metadata": {
      "image/png": {
       "height": 420,
       "width": 420
      }
     },
     "output_type": "display_data"
    },
    {
     "data": {
      "image/png": "[encoded data removed]",
      "text/plain": [
       "Plot with title \"Ubóstwo - skośność: 0.48 kurtoza: -0.64\""
      ]
     },
     "metadata": {
      "image/png": {
       "height": 420,
       "width": 420
      }
     },
     "output_type": "display_data"
    },
    {
     "data": {
      "image/png": "[encoded data removed]",
      "text/plain": [
       "Plot with title \"Bezrobocie - skośność: 0.35 kurtoza: -0.82\""
      ]
     },
     "metadata": {
      "image/png": {
       "height": 420,
       "width": 420
      }
     },
     "output_type": "display_data"
    },
    {
     "data": {
      "image/png": "[encoded data removed]",
      "text/plain": [
       "Plot with title \"Wskaźnik zabójstw - skośność: 0.44 kurtoza: -0.73\""
      ]
     },
     "metadata": {
      "image/png": {
       "height": 420,
       "width": 420
      }
     },
     "output_type": "display_data"
    }
   ],
   "source": [
    "#liczba klas\n",
    "n = ceiling(sqrt(20))\n",
    "\n",
    "moment <- function(dane, k){\n",
    "    mean((dane-mean(dane))^k)\n",
    "}\n",
    "\n",
    "my_skewness <- function(dane){\n",
    "    moment(dane, 3) / moment(dane, 2)^(3/2)\n",
    "}\n",
    "\n",
    "my_kurtosis <- function(dane){\n",
    "    moment(dane, 4) / moment(dane,2)^2 - 3\n",
    "}\n",
    "\n",
    "\n",
    "hist(murders$population, breaks = n, xlab = \"liczność populacji\", main = sprintf(\"%s skośność: %.2f kurtoza: %.2f\", \"Pulacja -\", my_skewness(murders$population), my_kurtosis(murders$population)))\n",
    "hist(murders$perc_pov, breaks = n, xlab = \"procent ubóstwa\", main = sprintf(\"%s skośność: %.2f kurtoza: %.2f\", \"Ubóstwo -\", my_skewness(murders$perc_pov), my_kurtosis(murders$perc_pov)))\n",
    "hist(murders$perc_unemp, breaks = n, xlab = \"procent bezrobocia\", main = sprintf(\"%s skośność: %.2f kurtoza: %.2f\", \"Bezrobocie -\", my_skewness(murders$perc_unemp), my_kurtosis(murders$perc_unemp)))\n",
    "hist(murders$annual_murders_per_mil, xlab = \"roczna ilość morderstw na 1 mln mieszkańców\", breaks = n, main = sprintf(\"%s skośność: %.2f kurtoza: %.2f\", \"Wskaźnik zabójstw -\", my_skewness(murders$annual_murders_per_mil), my_kurtosis(murders$annual_murders_per_mil)))"
   ]
  },
  {
   "cell_type": "markdown",
   "id": "881ca719",
   "metadata": {},
   "source": [
    "W przypadku pierwszego wykresu można zaobserwowac outlier (wartość odstającą), zatem w przypadku populacji średnia może niezbyt prezyjnie odzwierciedlać dane (jest wrażliwa na dane odstające). Znacznie lepiej sprawdza się tutaj mediana. Patrząc na następne 3 wykresy, można stwierdzić że znacznie bardziej przypominają rozkład normalny - zarówno średnia jak i mediana dobrze się sprawdza jako miara tendencji centralnej. Pierwszy wykres ma rozkład leptokurtyczny, pozostałe platokurtyczny. Wszystkie rozkłady mają rozkład prawoskośny o czym świadczy wyliczona skośność."
   ]
  },
  {
   "cell_type": "code",
   "execution_count": 4,
   "id": "64ce9ebb",
   "metadata": {
    "vscode": {
     "languageId": "r"
    }
   },
   "outputs": [
    {
     "name": "stdout",
     "output_type": "stream",
     "text": [
      "[1] \"Populacja\"\n"
     ]
    },
    {
     "data": {
      "text/plain": [
       "\n",
       " (5.8e+05,2.05e+06] (2.05e+06,3.51e+06] (3.51e+06,4.97e+06] (4.97e+06,6.43e+06] \n",
       "                 17                   2                   0                   0 \n",
       " (6.43e+06,7.9e+06] \n",
       "                  1 "
      ]
     },
     "metadata": {},
     "output_type": "display_data"
    },
    {
     "name": "stdout",
     "output_type": "stream",
     "text": [
      "[1] \"Procent ubóstwa\"\n"
     ]
    },
    {
     "data": {
      "text/plain": [
       "\n",
       "(14.3,16.7] (16.7,19.1] (19.1,21.5] (21.5,23.9] (23.9,26.3] \n",
       "          4           6           5           2           3 "
      ]
     },
     "metadata": {},
     "output_type": "display_data"
    },
    {
     "name": "stdout",
     "output_type": "stream",
     "text": [
      "[1] \"Procent procent bezrobocia\"\n"
     ]
    },
    {
     "data": {
      "text/plain": [
       "\n",
       " (4.9,5.78] (5.78,6.66] (6.66,7.54] (7.54,8.42]  (8.42,9.3] \n",
       "          2           8           4           3           3 "
      ]
     },
     "metadata": {},
     "output_type": "display_data"
    },
    {
     "name": "stdout",
     "output_type": "stream",
     "text": [
      "[1] \"Roczna ilość zabójstw na 1 mln mieszkańców\"\n"
     ]
    },
    {
     "data": {
      "text/plain": [
       "\n",
       "(5.26,12.4] (12.4,19.5] (19.5,26.5] (26.5,33.6] (33.6,40.7] \n",
       "          4           6           5           2           3 "
      ]
     },
     "metadata": {},
     "output_type": "display_data"
    }
   ],
   "source": [
    "print(\"Populacja\")\n",
    "table(cut(murders$population, breaks = n))\n",
    "print(\"Procent ubóstwa\")\n",
    "table(cut(murders$perc_pov, breaks = n))\n",
    "print(\"Procent procent bezrobocia\")\n",
    "table(cut(murders$perc_unemp, breaks = n))\n",
    "print(\"Roczna ilość zabójstw na 1 mln mieszkańców\")\n",
    "table(cut(murders$annual_murders_per_mil, breaks = n))"
   ]
  },
  {
   "cell_type": "markdown",
   "id": "46bbf456",
   "metadata": {},
   "source": [
    "Dodatkowe szeregi rozdzielcze. Ponieważ dane są mocno zróżnicowane i dotyczą zupełnie innych rzeczy, o wiele łatwiej jest zinterpretować histogramy."
   ]
  },
  {
   "cell_type": "markdown",
   "id": "df66dfa0",
   "metadata": {},
   "source": [
    "### Model regresji wielorakiej oraz test na jej istotność\n",
    "Badaną zmienną objaśnianą będzie wskaźnik morderstw, natomiast pozostałe zmienne będą zmiennymi objaśniającymi. "
   ]
  },
  {
   "cell_type": "code",
   "execution_count": 5,
   "id": "e9ffad98",
   "metadata": {
    "vscode": {
     "languageId": "r"
    }
   },
   "outputs": [
    {
     "data": {
      "text/plain": [
       "\n",
       "Call:\n",
       "lm(formula = annual_murders_per_mil ~ ., data = murders)\n",
       "\n",
       "Coefficients:\n",
       "(Intercept)   population     perc_pov   perc_unemp  \n",
       " -3.676e+01    7.629e-07    1.192e+00    4.720e+00  \n"
      ]
     },
     "metadata": {},
     "output_type": "display_data"
    }
   ],
   "source": [
    "model <- lm(annual_murders_per_mil ~ ., murders) #model regresji\n",
    "model #wyświetlenie poszczególnych współczynników"
   ]
  },
  {
   "cell_type": "markdown",
   "id": "21c09fe1",
   "metadata": {},
   "source": [
    "Wyświetlone zostały współczynniki dla poszczególnych zmiennych niezależnych modelu regresji. Ważne będzie jeszcze przeprowadzenie globalnego testu na istotność regresji wielorakiej. Wykonany zostanie test F.\n",
    "\n",
    "Układ hipotez: \n",
    "$H_0: \\beta_1 = \\beta_2 = \\beta_3 = 0$\n",
    "$H_1:$ Co najmniej jeden $\\beta_i \\neq 0$"
   ]
  },
  {
   "cell_type": "code",
   "execution_count": 6,
   "id": "fce611fe",
   "metadata": {
    "vscode": {
     "languageId": "r"
    }
   },
   "outputs": [
    {
     "data": {
      "text/plain": [
       "\n",
       "Call:\n",
       "lm(formula = annual_murders_per_mil ~ ., data = murders)\n",
       "\n",
       "Residuals:\n",
       "    Min      1Q  Median      3Q     Max \n",
       "-5.7174 -3.3233  0.4031  1.7684 10.0329 \n",
       "\n",
       "Coefficients:\n",
       "              Estimate Std. Error t value Pr(>|t|)    \n",
       "(Intercept) -3.676e+01  7.011e+00  -5.244 8.03e-05 ***\n",
       "population   7.629e-07  6.363e-07   1.199  0.24798    \n",
       "perc_pov     1.192e+00  5.617e-01   2.123  0.04974 *  \n",
       "perc_unemp   4.720e+00  1.530e+00   3.084  0.00712 ** \n",
       "---\n",
       "Signif. codes:  0 '***' 0.001 '**' 0.01 '*' 0.05 '.' 0.1 ' ' 1\n",
       "\n",
       "Residual standard error: 4.59 on 16 degrees of freedom\n",
       "Multiple R-squared:  0.8183,\tAdjusted R-squared:  0.7843 \n",
       "F-statistic: 24.02 on 3 and 16 DF,  p-value: 3.629e-06\n"
      ]
     },
     "metadata": {},
     "output_type": "display_data"
    }
   ],
   "source": [
    "summary(model)"
   ]
  },
  {
   "cell_type": "markdown",
   "id": "83692fe5",
   "metadata": {},
   "source": [
    "Przyjmując poziom istności alfa = 0.05, test F jest istotny statystycznie (p-wartość = 3.629e-06 < 0.05). Dodatkowo, analizując poszczególne zmienne w teście T dla pojedyńczych parametrów (test pojedyńczego parametru w regresji wielorakiej - $H_0: \\beta_i = 0$ $H_1: \\beta_i \\neq 0$), okazało się że zmienna population nie jest istotna statystycznie (p-wartość = 0.24798 > 0.05). Zatem można odrzucić tą zmienną i dokonać ponownie analizy regresji wielorakiej."
   ]
  },
  {
   "cell_type": "code",
   "execution_count": 7,
   "id": "48382272",
   "metadata": {
    "vscode": {
     "languageId": "r"
    }
   },
   "outputs": [
    {
     "data": {
      "text/plain": [
       "\n",
       "Call:\n",
       "lm(formula = annual_murders_per_mil ~ perc_pov + perc_unemp, \n",
       "    data = murders)\n",
       "\n",
       "Coefficients:\n",
       "(Intercept)     perc_pov   perc_unemp  \n",
       "    -34.073        1.224        4.399  \n"
      ]
     },
     "metadata": {},
     "output_type": "display_data"
    }
   ],
   "source": [
    "model_v2 <- lm(annual_murders_per_mil ~ perc_pov + perc_unemp, murders)\n",
    "model_v2"
   ]
  },
  {
   "cell_type": "code",
   "execution_count": 8,
   "id": "37a415d5",
   "metadata": {
    "vscode": {
     "languageId": "r"
    }
   },
   "outputs": [
    {
     "data": {
      "text/plain": [
       "\n",
       "Call:\n",
       "lm(formula = annual_murders_per_mil ~ perc_pov + perc_unemp, \n",
       "    data = murders)\n",
       "\n",
       "Residuals:\n",
       "    Min      1Q  Median      3Q     Max \n",
       "-5.9019 -2.8101  0.1569  1.7788 10.2709 \n",
       "\n",
       "Coefficients:\n",
       "            Estimate Std. Error t value Pr(>|t|)    \n",
       "(Intercept) -34.0725     6.7265  -5.065 9.56e-05 ***\n",
       "perc_pov      1.2239     0.5682   2.154   0.0459 *  \n",
       "perc_unemp    4.3989     1.5262   2.882   0.0103 *  \n",
       "---\n",
       "Signif. codes:  0 '***' 0.001 '**' 0.01 '*' 0.05 '.' 0.1 ' ' 1\n",
       "\n",
       "Residual standard error: 4.648 on 17 degrees of freedom\n",
       "Multiple R-squared:  0.802,\tAdjusted R-squared:  0.7787 \n",
       "F-statistic: 34.43 on 2 and 17 DF,  p-value: 1.051e-06\n"
      ]
     },
     "metadata": {},
     "output_type": "display_data"
    }
   ],
   "source": [
    "summary(model_v2)"
   ]
  },
  {
   "cell_type": "markdown",
   "id": "6164608e",
   "metadata": {},
   "source": [
    "Poprawiony model regresji wielorakiej objaśnia około 80.2% zmienności zmiennej zależnej (wskaźnik zabójstw). Pogorszył się on w stosunku do poprzedniego modelu; jak również skorygowany współczynnik determinacji zmniejszył się z 78.43% do 77.87%."
   ]
  },
  {
   "cell_type": "code",
   "execution_count": 9,
   "id": "b7063057",
   "metadata": {
    "vscode": {
     "languageId": "r"
    }
   },
   "outputs": [
    {
     "data": {
      "image/png": "[encoded data removed]",
      "text/plain": [
       "plot without title"
      ]
     },
     "metadata": {
      "image/png": {
       "height": 420,
       "width": 420
      }
     },
     "output_type": "display_data"
    }
   ],
   "source": [
    "library(\"scatterplot3d\")\n",
    "s3d <- scatterplot3d(murders[,2:4], type = \"h\", color = \"red\", angle = 40, pch = 16)\n",
    "my.lm <- lm(annual_murders_per_mil ~ perc_pov + perc_unemp, murders)\n",
    "s3d$plane3d(my.lm)"
   ]
  },
  {
   "cell_type": "markdown",
   "id": "246035b1",
   "metadata": {},
   "source": [
    "Ponieważ finalny model regresji wielorakiej jest funkcją 2 zmiennych, możliwe było wykonanie wykresu 3D zaobserwowanych danych oraz funkcji modelu regresji. Analizując wykres oraz współczynniki modelu regresji można dojść do wniosku, że im wyższy procent ubóstwa i bezrobocia, tym większy wskaźnik zabójstw w metropolii."
   ]
  },
  {
   "cell_type": "code",
   "execution_count": 10,
   "id": "f11f5e5f",
   "metadata": {
    "scrolled": false,
    "vscode": {
     "languageId": "r"
    }
   },
   "outputs": [
    {
     "data": {
      "image/png": "[encoded data removed]",
      "text/plain": [
       "Plot with title \"\""
      ]
     },
     "metadata": {
      "image/png": {
       "height": 420,
       "width": 420
      }
     },
     "output_type": "display_data"
    }
   ],
   "source": [
    "par(mfrow=c(2,2))\n",
    "plot(model_v2)"
   ]
  },
  {
   "cell_type": "markdown",
   "id": "bd2e7304",
   "metadata": {},
   "source": [
    "Wyświetlone wykresy diagnostyczne służą do analizy reszt modelu regresji. Z pierwszego wykresu można wywnioskować że wartość oczekiwana reszt jest w pobliżu 0, a także reszty są rozmieszczone równormiernie (nie można dostrzec żadnego wzoru np. paraboli), więc nie występuje tu nieliniowa relacja. Na wykresie QQ punkty są blisko linii, zatem błędy pochodzą z rozkładu normalnego (pomimo że można zauwazyć kilka obserwacji odstających np. 20 i 8). Z ostatniego wykresu można wywnioskować, że nie ma żadnych obserwacji znacząco wpływających na model regresji (nie ma obserwacji za przerywanymi liniami)."
   ]
  }
 ],
 "metadata": {
  "kernelspec": {
   "display_name": "R",
   "language": "R",
   "name": "ir"
  },
  "language_info": {
   "codemirror_mode": "r",
   "file_extension": ".r",
   "mimetype": "text/x-r-source",
   "name": "R",
   "pygments_lexer": "r",
   "version": "4.1.0"
  }
 },
 "nbformat": 4,
 "nbformat_minor": 5
}
